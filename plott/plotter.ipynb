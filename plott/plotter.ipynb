{
 "cells": [
  {
   "cell_type": "code",
   "execution_count": 1,
   "metadata": {},
   "outputs": [],
   "source": [
    "import numpy as np\n",
    "import pandas as pd\n",
    "import matplotlib.pyplot as plt"
   ]
  },
  {
   "cell_type": "code",
   "execution_count": 49,
   "metadata": {},
   "outputs": [
    {
     "data": {
      "text/plain": [
       "([<matplotlib.axis.XTick at 0x137615e1450>,\n",
       "  <matplotlib.axis.XTick at 0x137615e2a40>,\n",
       "  <matplotlib.axis.XTick at 0x137615e3820>],\n",
       " [Text(0, 0, ''), Text(0, 0, ''), Text(0, 0, '')])"
      ]
     },
     "execution_count": 49,
     "metadata": {},
     "output_type": "execute_result"
    },
    {
     "data": {
      "image/png": "[encoded data removed]",
      "text/plain": [
       "<Figure size 432x288 with 1 Axes>"
      ]
     },
     "metadata": {
      "needs_background": "light"
     },
     "output_type": "display_data"
    }
   ],
   "source": [
    "df = pd.read_csv('huffmanBonsai.csv')\n",
    "plt.bar([2,4,8], df['decode'][1:4])\n",
    "plt.bar([2,4,8],df['compress'][1:4], bottom=df['decode'][1:4])\n",
    "plt.bar([2,4,8],df['buildHuff'][1:4], bottom=df['compress'][1:4])\n",
    "plt.semilogx(base=2)\n",
    "plt.xticks([2, 4, 8])"
   ]
  }
 ],
 "metadata": {
  "interpreter": {
   "hash": "37d8c891d29524cf6437f1f867ab0ccb4a53efdf3e0ca6a9a3d05f47881818de"
  },
  "kernelspec": {
   "display_name": "Python 3.10.0 64-bit",
   "language": "python",
   "name": "python3"
  },
  "language_info": {
   "codemirror_mode": {
    "name": "ipython",
    "version": 3
   },
   "file_extension": ".py",
   "mimetype": "text/x-python",
   "name": "python",
   "nbconvert_exporter": "python",
   "pygments_lexer": "ipython3",
   "version": "3.10.0"
  },
  "orig_nbformat": 4
 },
 "nbformat": 4,
 "nbformat_minor": 2
}
